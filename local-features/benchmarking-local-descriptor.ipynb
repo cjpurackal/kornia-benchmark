{
 "cells": [
  {
   "cell_type": "code",
   "execution_count": 1,
   "metadata": {},
   "outputs": [],
   "source": [
    "%matplotlib inline\n",
    "import torch\n",
    "import kornia as K\n",
    "import os\n",
    "from PIL import Image\n",
    "import numpy as np\n",
    "import matplotlib.pyplot as plt\n",
    "# data: two patch sets from HPatches https://github.com/hpatches/hpatches-dataset\n",
    "dir_fname = 'data/hpatches_selected/'\n",
    "pairs = [('v_graffiti_e1', 'v_graffiti_h4'),\n",
    "         ('i_porta_e1', 'i_porta_h4')]"
   ]
  },
  {
   "cell_type": "markdown",
   "metadata": {},
   "source": []
  },
  {
   "cell_type": "code",
   "execution_count": 2,
   "metadata": {},
   "outputs": [],
   "source": [
    "from kornia.feature import SIFTDescriptor\n",
    "\n",
    "def benchmark_matching_score(P1, P2, descriptor):\n",
    "    #perm1 = np.random.permutation(P1.size(0))\n",
    "    #perm1_inv = np.argsort(perm1)\n",
    "    #P1 = P1[perm1]\n",
    "    with torch.no_grad():\n",
    "        desc1 = descriptor(P1)\n",
    "        #desc1 = desc1[perm1_inv]\n",
    "        desc2 = descriptor(P2)\n",
    "        dm = torch.cdist(desc1,desc2)\n",
    "        ind_in_2 = dm.min(dim=1)[1]\n",
    "        correct = ind_in_2.view(-1) == torch.arange(P1.size(0))\n",
    "        acc = correct.float().mean().item() * 100\n",
    "    return acc\n",
    "    "
   ]
  },
  {
   "cell_type": "code",
   "execution_count": 3,
   "metadata": {},
   "outputs": [
    {
     "name": "stdout",
     "output_type": "stream",
     "text": [
      "data/hpatches_selected/v_graffiti_e1.png data/hpatches_selected/v_graffiti_h4.png\n",
      " matching score = 33.9 %\n",
      "data/hpatches_selected/i_porta_e1.png data/hpatches_selected/i_porta_h4.png\n",
      " matching score = 22.5 %\n",
      "overall matching score = 28.2 %\n"
     ]
    }
   ],
   "source": [
    "descriptor = K.feature.SIFTDescriptor(32, rootsift=True)\n",
    "accs = []\n",
    "for f1, f2 in pairs:\n",
    "    fn1 = os.path.join(dir_fname, f1 + '.png')\n",
    "    fn2 = os.path.join(dir_fname, f2 + '.png')\n",
    "    print (fn1, fn2)\n",
    "    P1 = K.image_to_tensor(np.array(Image.open(fn1).convert('L'))).float()/255.\n",
    "    P2 = K.image_to_tensor(np.array(Image.open(fn2).convert('L'))).float()/255.\n",
    "    P1 = P1.reshape(-1,1,65,65)\n",
    "    P2 = P2.reshape(-1,1,65,65)\n",
    "    acc = benchmark_matching_score(K.resize(P1,(32,32)), K.resize(P2,(32,32)), descriptor)\n",
    "    print (f' matching score = {acc:.1f} %')\n",
    "    accs.append(acc)\n",
    "print (f'overall matching score = {torch.tensor(accs).mean().item():.1f} %')\n"
   ]
  },
  {
   "cell_type": "code",
   "execution_count": 4,
   "metadata": {},
   "outputs": [
    {
     "name": "stdout",
     "output_type": "stream",
     "text": [
      "data/hpatches_selected/v_graffiti_e1.png data/hpatches_selected/v_graffiti_h4.png\n",
      " matching score = 57.7 %\n",
      "data/hpatches_selected/i_porta_e1.png data/hpatches_selected/i_porta_h4.png\n",
      " matching score = 46.5 %\n",
      "overall matching score = 52.1 %\n"
     ]
    }
   ],
   "source": [
    "descriptor = K.feature.HardNet(True)\n",
    "accs = []\n",
    "for f1, f2 in pairs:\n",
    "    fn1 = os.path.join(dir_fname, f1 + '.png')\n",
    "    fn2 = os.path.join(dir_fname, f2 + '.png')\n",
    "    print (fn1, fn2)\n",
    "    P1 = K.image_to_tensor(np.array(Image.open(fn1).convert('L'))).float()/255.\n",
    "    P2 = K.image_to_tensor(np.array(Image.open(fn2).convert('L'))).float()/255.\n",
    "    P1 = P1.reshape(-1,1,65,65)\n",
    "    P2 = P2.reshape(-1,1,65,65)\n",
    "    acc = benchmark_matching_score(K.resize(P1,(32,32)), K.resize(P2,(32,32)), descriptor)\n",
    "    print (f' matching score = {acc:.1f} %')\n",
    "    accs.append(acc)\n",
    "print (f'overall matching score = {torch.tensor(accs).mean().item():.1f} %')\n"
   ]
  }
 ],
 "metadata": {
  "kernelspec": {
   "display_name": "Python 3",
   "language": "python",
   "name": "python3"
  },
  "language_info": {
   "codemirror_mode": {
    "name": "ipython",
    "version": 3
   },
   "file_extension": ".py",
   "mimetype": "text/x-python",
   "name": "python",
   "nbconvert_exporter": "python",
   "pygments_lexer": "ipython3",
   "version": "3.7.4"
  }
 },
 "nbformat": 4,
 "nbformat_minor": 2
}
