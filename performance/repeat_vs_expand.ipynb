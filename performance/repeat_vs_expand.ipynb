{
  "nbformat": 4,
  "nbformat_minor": 0,
  "metadata": {
    "colab": {
      "provenance": []
    },
    "kernelspec": {
      "name": "python3",
      "display_name": "Python 3"
    },
    "language_info": {
      "name": "python"
    },
    "accelerator": "GPU",
    "gpuClass": "standard"
  },
  "cells": [
    {
      "cell_type": "code",
      "execution_count": null,
      "metadata": {
        "colab": {
          "base_uri": "https://localhost:8080/"
        },
        "id": "VHRFy2VLT8cL",
        "outputId": "5f6a33ac-dad9-4cf2-9b0f-a14ae6605ecc"
      },
      "outputs": [
        {
          "output_type": "stream",
          "name": "stdout",
          "text": [
            "[-------------------  ------------------]\n",
            "                         |  test_eye_like\n",
            "1 threads: ------------------------------\n",
            "      eye_like_repeat()  |      251.9    \n",
            "      eye_like_expand()  |      263.3    \n",
            "\n",
            "Times are in microseconds (us).\n",
            "\n"
          ]
        }
      ],
      "source": [
        "from itertools import product\n",
        "\n",
        "import torch\n",
        "import torch.utils.benchmark as benchmark\n",
        "\n",
        "# Compare takes a list of measurements which we'll save in results.\n",
        "results = []\n",
        "\n",
        "\n",
        "n = 128\n",
        "input = torch.randn(24, 2, 3, 384, 384)\n",
        "\n",
        "\n",
        "def eye_like_repeat() -> torch.Tensor:\n",
        "    if n <= 0:\n",
        "        raise AssertionError(type(n), n)\n",
        "    if len(input.shape) < 1:\n",
        "        raise AssertionError(input.shape)\n",
        "\n",
        "    identity = torch.eye(n, device=input.device, dtype=input.dtype)\n",
        "    return identity[None].repeat(input.shape[0], 1, 1)\n",
        "\n",
        "\n",
        "def eye_like_expand() -> torch.Tensor:\n",
        "    if n <= 0:\n",
        "        raise AssertionError(type(n), n)\n",
        "    if len(input.shape) < 1:\n",
        "        raise AssertionError(input.shape)\n",
        "\n",
        "    identity = torch.eye(n, device=input.device, dtype=input.dtype)\n",
        "    return identity[None].expand(input.shape[0], n, n).clone()\n",
        "\n",
        "\n",
        "fcn_names = [\n",
        "    \"eye_like_repeat\", \n",
        "    \"eye_like_expand\"\n",
        "]\n",
        "\n",
        "for fcn_name in fcn_names:\n",
        "    # label and sub_label are the rows\n",
        "    # description is the column\n",
        "    results.append(\n",
        "        benchmark.Timer(\n",
        "            stmt=f'{fcn_name}()',\n",
        "            setup=f'from __main__ import {fcn_name}',\n",
        "            description='test_eye_like',\n",
        "        ).blocked_autorange(min_run_time=1)\n",
        "    )\n",
        "\n",
        "compare = benchmark.Compare(results)\n",
        "compare.print()"
      ]
    }
  ]
}